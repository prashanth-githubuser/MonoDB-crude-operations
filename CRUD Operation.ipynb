{
 "cells": [
  {
   "cell_type": "code",
   "execution_count": 3,
   "metadata": {},
   "outputs": [],
   "source": [
    "import pymongo\n",
    "client =pymongo.MongoClient(\"mongodb://localhost:27017/\")"
   ]
  },
  {
   "cell_type": "code",
   "execution_count": 4,
   "metadata": {},
   "outputs": [
    {
     "data": {
      "text/plain": [
       "<pymongo.results.InsertOneResult at 0x97625a7908>"
      ]
     },
     "execution_count": 4,
     "metadata": {},
     "output_type": "execute_result"
    }
   ],
   "source": [
    "# Creating the DB and and collection\n",
    "\n",
    "db = client.new_database\n",
    "collection = db.telephone_directory\n",
    "\n",
    "#Inserting the document\n",
    "dict1 = {\"Name\":\"Guvi\",\"Phone\":13243546,\"Place\":\"Chennai\"}\n",
    "collection.insert_one(dict1)"
   ]
  },
  {
   "cell_type": "code",
   "execution_count": 5,
   "metadata": {},
   "outputs": [
    {
     "data": {
      "text/plain": [
       "['telephone_directory']"
      ]
     },
     "execution_count": 5,
     "metadata": {},
     "output_type": "execute_result"
    }
   ],
   "source": [
    "#Checking the created collection inside the DB:new_database\n",
    "db.list_collection_names()"
   ]
  },
  {
   "cell_type": "code",
   "execution_count": 27,
   "metadata": {},
   "outputs": [
    {
     "name": "stdout",
     "output_type": "stream",
     "text": [
      "['admin', 'config', 'database', 'db1', 'local', 'mydatabase', 'new_database', 'production', 'test']\n"
     ]
    }
   ],
   "source": [
    "print(client.list_database_names())"
   ]
  },
  {
   "cell_type": "code",
   "execution_count": 9,
   "metadata": {},
   "outputs": [
    {
     "name": "stdout",
     "output_type": "stream",
     "text": [
      "{'_id': ObjectId('63a325b66f3ecab39d25901c'), 'Name': 'Guvi', 'Phone': 13243546, 'Place': 'Chennai'}\n"
     ]
    }
   ],
   "source": [
    "#Finding the record created\n",
    "for x in collection.find():\n",
    "    print(x)"
   ]
  },
  {
   "cell_type": "code",
   "execution_count": 10,
   "metadata": {},
   "outputs": [
    {
     "data": {
      "text/plain": [
       "<pymongo.results.UpdateResult at 0x9767af4788>"
      ]
     },
     "execution_count": 10,
     "metadata": {},
     "output_type": "execute_result"
    }
   ],
   "source": [
    "# Updating the records\n",
    "\n",
    "query = {\"Phone\":13243546} # Updating the Phone existing Number\n",
    "new_value = {\"$set\":{\"Phone\":24354657}}\n",
    "\n",
    "collection.update_one(query,new_value)"
   ]
  },
  {
   "cell_type": "code",
   "execution_count": 11,
   "metadata": {},
   "outputs": [
    {
     "name": "stdout",
     "output_type": "stream",
     "text": [
      "{'_id': ObjectId('63a325b66f3ecab39d25901c'), 'Name': 'Guvi', 'Phone': 24354657, 'Place': 'Chennai'}\n"
     ]
    }
   ],
   "source": [
    "#Checking the Updated record\n",
    "\n",
    "for x in collection.find():\n",
    "    print(x)"
   ]
  },
  {
   "cell_type": "code",
   "execution_count": 20,
   "metadata": {},
   "outputs": [
    {
     "data": {
      "text/plain": [
       "<pymongo.results.DeleteResult at 0x9767af4ec8>"
      ]
     },
     "execution_count": 20,
     "metadata": {},
     "output_type": "execute_result"
    }
   ],
   "source": [
    "#deleting the record\n",
    "collection.delete_one({\"Name\":\"Guvi\"})"
   ]
  },
  {
   "cell_type": "code",
   "execution_count": 25,
   "metadata": {},
   "outputs": [
    {
     "name": "stdout",
     "output_type": "stream",
     "text": [
      "No documents in the collection,\n",
      "Insert new document\n"
     ]
    }
   ],
   "source": [
    "#Checking the record\n",
    "\n",
    "for x in collection.find():\n",
    "    print(x)\n",
    "else: print(\"No documents in the collection,\\nInsert new document\")"
   ]
  }
 ],
 "metadata": {
  "kernelspec": {
   "display_name": "Python 3",
   "language": "python",
   "name": "python3"
  },
  "language_info": {
   "codemirror_mode": {
    "name": "ipython",
    "version": 3
   },
   "file_extension": ".py",
   "mimetype": "text/x-python",
   "name": "python",
   "nbconvert_exporter": "python",
   "pygments_lexer": "ipython3",
   "version": "3.7.4"
  },
  "orig_nbformat": 4,
  "vscode": {
   "interpreter": {
    "hash": "67278eb57969133340ab990d85494d6b3ffd387bbf61def110afa3957282f7f9"
   }
  }
 },
 "nbformat": 4,
 "nbformat_minor": 2
}
